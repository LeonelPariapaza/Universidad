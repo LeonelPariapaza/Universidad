{
 "cells": [
  {
   "cell_type": "code",
   "execution_count": 48,
   "id": "547bfa31",
   "metadata": {},
   "outputs": [],
   "source": [
    "import uuid\n",
    "import pandas as pd\n",
    "from reportlab.lib.pagesizes import landscape, A4\n",
    "from reportlab.pdfgen import canvas\n",
    "from reportlab.pdfbase import pdfmetrics\n",
    "from reportlab.pdfbase.ttfonts import TTFont\n",
    "from openpyxl import load_workbook\n",
    "import smtplib\n",
    "import os\n",
    "import shutil\n",
    "from email.mime.text import MIMEText\n",
    "from email.mime.multipart import MIMEMultipart\n",
    "from email.mime.application import MIMEApplication"
   ]
  },
  {
   "cell_type": "code",
   "execution_count": 49,
   "id": "fd229f64",
   "metadata": {},
   "outputs": [],
   "source": [
    "# Añadimos nuestra fuente\n",
    "pdfmetrics.registerFont(TTFont('Belleza', 'fuentes/Belleza.ttf'))"
   ]
  },
  {
   "cell_type": "code",
   "execution_count": 50,
   "id": "793d1dba",
   "metadata": {},
   "outputs": [],
   "source": [
    "# Leer los nombres de los destinatarios desde el archivo Excel\n",
    "# Lee el archivo Excel y conviértelo en un DataFrame\n",
    "df = pd.read_excel('participantes/participantes.xlsx')\n",
    "\n",
    "# Crea una lista vacía para almacenar los destinatarios\n",
    "destinatarios = []\n",
    "\n",
    "# Itera sobre las filas del DataFrame\n",
    "for index, row in df.iterrows():\n",
    "    # Crea un diccionario para cada destinatario\n",
    "    destinatario = {\"nombre\": row[1], \"correo\": row[2]}  # El nombre está en la segunda columna (índice 1)\n",
    "    # Agrega el destinatario a la lista\n",
    "    destinatarios.append(destinatario)\n",
    "\n",
    "# Muestra la lista de destinatarios\n",
    "# print(destinatarios)"
   ]
  },
  {
   "cell_type": "code",
   "execution_count": null,
   "id": "d4e2650b",
   "metadata": {},
   "outputs": [],
   "source": [
    "destinatario[\"nombre\"]"
   ]
  },
  {
   "cell_type": "code",
   "execution_count": 53,
   "id": "87cdaa6d",
   "metadata": {},
   "outputs": [],
   "source": [
    "# Crear los documentos PDF para cada destinatario\n",
    "for destinatario in destinatarios:\n",
    "    # Obtener los datos del destinatario actual\n",
    "    nombre_destinatario = destinatario[\"nombre\"]\n",
    "\n",
    "    # Generar el código de identificación único\n",
    "    codigo = str(uuid.uuid4())\n",
    "\n",
    "    # Crear el documento PDF y definir su tamaño\n",
    "    pdf = canvas.Canvas(f\"certificados_participantes/{nombre_destinatario}.pdf\", pagesize=landscape(A4))\n",
    "\n",
    "    # Agregar la imagen de fondo\n",
    "    pdf.drawImage(\"Fondo/fondo_participante.png\", 0, 0, width=842, height=595)\n",
    "\n",
    "    # Agregar el nombre del destinatario\n",
    "    pdf.setFillColorRGB(0.16, 0.50, 0.51) # Color\n",
    "    pdf.setFont(\"Belleza\", 36) # Fuente\n",
    "    pdf.drawCentredString(421, 360, f\"{nombre_destinatario}\")\n",
    "\n",
    "    # Agregar el código de identificación\n",
    "    pdf.setFillColorRGB(0, 0, 0) # Color\n",
    "    pdf.setFont(\"Helvetica\", 10) # Fuente\n",
    "    pdf.drawString(18, 12, f\"Código: OE-{codigo}\")\n",
    "\n",
    "    # Cerrar el documento PDF\n",
    "    pdf.save()"
   ]
  },
  {
   "cell_type": "code",
   "execution_count": 30,
   "id": "de0a2ee4",
   "metadata": {},
   "outputs": [
    {
     "data": {
      "text/plain": [
       "(221,\n",
       " b'2.0.0 closing connection m23-20020a67ed57000000b00423e2fdeab6sm114350vsp.34 - gsmtp')"
      ]
     },
     "execution_count": 30,
     "metadata": {},
     "output_type": "execute_result"
    }
   ],
   "source": [
    "# Enviar correos\n",
    "# Datos del servidor SMTP de Gmail\n",
    "smtp_server = 'smtp.gmail.com'\n",
    "smtp_port = 587  # Puerto para TLS\n",
    "smtp_username = 'Orientación Económica'\n",
    "smtp_user = 'lpariapazap@gmail.com'\n",
    "smtp_password = 'uvroxxickdzfwuzx'\n",
    "\n",
    "# Destinatarios de los correos electrónicos\n",
    "\n",
    "\n",
    "# Archivo a enviar\n",
    "archivo = f\"{nombre_destinatario}.pdf\"\n",
    "\n",
    "# Configura el servidor SMTP de Gmail\n",
    "server = smtplib.SMTP(smtp_server, smtp_port)\n",
    "server.starttls()\n",
    "server.login(smtp_user, smtp_password)\n",
    "\n",
    "# Envía el correo electrónico a cada destinatario\n",
    "for destinatario in destinatarios:\n",
    "    nombre = destinatario['nombre']\n",
    "    correo = destinatario['correo']\n",
    "    mensaje = f'Hola {nombre}, este es un mensaje de prueba con un archivo adjunto.'\n",
    "    remitente = smtp_user\n",
    "    asunto = 'Mensaje de prueba con archivo adjunto'\n",
    "\n",
    "    # Crea el mensaje de correo electrónico\n",
    "    msg = MIMEMultipart()\n",
    "    msg['From'] = smtp_username\n",
    "    msg['To'] = correo\n",
    "    msg['Subject'] = asunto\n",
    "    msg.attach(MIMEText(mensaje))\n",
    "\n",
    "    # Adjunta el archivo al mensaje\n",
    "    with open(archivo, \"rb\") as f:\n",
    "        archivo_adjunto = MIMEApplication(f.read(), _subtype=os.path.splitext(archivo)[1][1:])\n",
    "        archivo_adjunto.add_header('Content-Disposition', 'attachment', filename=os.path.basename(archivo))\n",
    "        msg.attach(archivo_adjunto)\n",
    "\n",
    "    # Envía el mensaje de correo electrónico\n",
    "    cuerpo = msg.as_string()\n",
    "    server.sendmail(remitente, correo, cuerpo)\n",
    "\n",
    "# Cierra la conexión con el servidor SMTP\n",
    "server.quit()"
   ]
  }
 ],
 "metadata": {
  "kernelspec": {
   "display_name": "Python 3 (ipykernel)",
   "language": "python",
   "name": "python3"
  },
  "language_info": {
   "codemirror_mode": {
    "name": "ipython",
    "version": 3
   },
   "file_extension": ".py",
   "mimetype": "text/x-python",
   "name": "python",
   "nbconvert_exporter": "python",
   "pygments_lexer": "ipython3",
   "version": "3.11.2"
  }
 },
 "nbformat": 4,
 "nbformat_minor": 5
}
